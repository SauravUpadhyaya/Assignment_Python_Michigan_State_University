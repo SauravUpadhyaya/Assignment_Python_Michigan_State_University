{
 "cells": [
  {
   "cell_type": "markdown",
   "id": "running-compound",
   "metadata": {},
   "source": [
    "* <a style=\"background:#bce8f1;color:black\" href='#the_destination'>Question_1</a>\n",
    "* <a style=\"background: #d6e9c6;color:black\" href='#the_destination2'>Question_2</a>\n",
    "* <a style=\"background:yellow;color:black\" href='#the_destination3'>Question_3</a>\n"
   ]
  },
  {
   "cell_type": "markdown",
   "id": "stainless-knowing",
   "metadata": {},
   "source": [
    "\n",
    "<a id ='the_destination'></a>\n",
    "\n",
    "### Question 1:\n",
    "\n",
    "<div class=\"alert alert-block alert-info\">\n",
    "<b></b>A car with a full tank of gas drives 80 miles per hour for 3 hours before running out of gas. How many miles can the car go per tank?</div>\n"
   ]
  },
  {
   "cell_type": "code",
   "execution_count": 1,
   "id": "casual-climate",
   "metadata": {},
   "outputs": [
    {
     "name": "stdout",
     "output_type": "stream",
     "text": [
      "Enter speed_Per_Hour: 80\n",
      "Enter total travelling hours before running out of gas: 3\n",
      "Miles Per tank travelled by Car is: 240\n"
     ]
    }
   ],
   "source": [
    "#Calculating number of miles that car can travel with one full tank.\n",
    "\n",
    "travelling_Speed = int(input(\"Enter speed_Per_Hour: \"))\n",
    "total_hours = int(input(\"Enter total travelling hours before running out of gas: \"))\n",
    "print(\"Miles Per tank travelled by Car is:\", travelling_Speed*total_hours)"
   ]
  },
  {
   "cell_type": "markdown",
   "id": "local-cleaner",
   "metadata": {},
   "source": [
    "<a id ='the_destination2'></a>"
   ]
  },
  {
   "cell_type": "markdown",
   "id": "rubber-henry",
   "metadata": {},
   "source": [
    "\n",
    "### Question 2: \n",
    "<div class=\"alert alert-block alert-success\">\n",
    "<b></b> A runner travels a half marathon (13.1 miles) in 3 hours. How fast was this runner going in miles per hour?\n",
    "</div>\n"
   ]
  },
  {
   "cell_type": "code",
   "execution_count": 2,
   "id": "hungarian-tradition",
   "metadata": {},
   "outputs": [
    {
     "name": "stdout",
     "output_type": "stream",
     "text": [
      "Enter total miles: 13.1\n",
      "Enter total hours: 3\n",
      "Miles Per tank travelled by Car is: 4.366666666666666\n"
     ]
    }
   ],
   "source": [
    "#Determining the Speed of runner in miles per hour with provided information.\n",
    "\n",
    "rate = float(input(\"Enter total miles: \"))\n",
    "total_hours = int(input(\"Enter total hours: \"))\n",
    "print(\"Miles Per tank travelled by Car is:\", rate/total_hours)"
   ]
  },
  {
   "cell_type": "markdown",
   "id": "russian-quarter",
   "metadata": {},
   "source": [
    "<a id ='the_destination3'></a>"
   ]
  },
  {
   "cell_type": "markdown",
   "id": "wooden-recycling",
   "metadata": {},
   "source": [
    "### Question 3:\n",
    "<code style=\"background:yellow;color:black\">The spread of a virus is exponential. If 5 people are infected and each person infects 2 other people, how many people have been infected after 5 rounds of infection?</code>"
   ]
  },
  {
   "cell_type": "code",
   "execution_count": 3,
   "id": "discrete-farming",
   "metadata": {},
   "outputs": [
    {
     "name": "stdout",
     "output_type": "stream",
     "text": [
      "No. of people being infected after 5 rounds of infection: 315\n"
     ]
    }
   ],
   "source": [
    "#Calculation of no. of People being infected after 5 rounds of infection.\n",
    "\n",
    "sum = 5\n",
    "a = 5\n",
    "for i in range(5):\n",
    "    b = a * 2\n",
    "    a = b\n",
    "    sum = sum + b\n",
    "print(\"No. of people being infected after 5 rounds of infection:\",sum)"
   ]
  },
  {
   "cell_type": "markdown",
   "id": "fossil-defendant",
   "metadata": {},
   "source": [
    "<a href='#the_destination'>Back_to_Question_1</a>\n",
    "\n",
    "\n",
    "<a href='#the_destination2'>Back_to_Question_2</a>\n",
    "\n",
    "\n"
   ]
  },
  {
   "cell_type": "code",
   "execution_count": null,
   "id": "accepting-ethernet",
   "metadata": {},
   "outputs": [],
   "source": []
  }
 ],
 "metadata": {
  "kernelspec": {
   "display_name": "Python 3",
   "language": "python",
   "name": "python3"
  },
  "language_info": {
   "codemirror_mode": {
    "name": "ipython",
    "version": 3
   },
   "file_extension": ".py",
   "mimetype": "text/x-python",
   "name": "python",
   "nbconvert_exporter": "python",
   "pygments_lexer": "ipython3",
   "version": "3.6.13"
  }
 },
 "nbformat": 4,
 "nbformat_minor": 5
}
